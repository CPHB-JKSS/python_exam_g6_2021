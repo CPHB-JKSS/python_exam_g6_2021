{
 "cells": [
  {
   "cell_type": "code",
   "execution_count": 41,
   "metadata": {},
   "outputs": [],
   "source": [
    "# Imports\n",
    "import bs4\n",
    "import requests\n",
    "import re\n",
    "import urllib.request\n",
    "import csv\n",
    "import shutil\n",
    "\n",
    "# Henter en url og bruger requests til at fejl finde eller raise en fejl.\n",
    "# BeautifulSoup parser html og laver det til læseligt tekst.\n",
    "url = \"https://www.kongehuset.dk/monarkiet-i-danmark/nytarstaler/hendes-majestat-dronningens-nytarstaler\"\n",
    "r_url = requests.get(url)\n",
    "r_url.raise_for_status()\n",
    "soup = bs4.BeautifulSoup(r_url.text, 'html.parser')\n",
    "\n",
    "# Hent a href links og skriver indholdet til csv filer som en liste.\n",
    "def get_links_and_write_to_csv(output_file):\n",
    "    list_of_links = [] \n",
    "      \n",
    "    # Henter alle a href links og adder det til en liste.\n",
    "    for link in soup.findAll('a', attrs={'href': re.compile(\"https://www.kongehuset.dk\")}):\n",
    "        list_of_links.append(link.get('href'))\n",
    "        #print(link.get('href'))\n",
    "       \n",
    "    #Skriv indholdet af linksnes tekst til en csv fil.\n",
    "    with open(output_file, 'w') as file_object:\n",
    "        write_to = csv.writer(file_object, delimiter=',')\n",
    "        write_to.writerow(list_of_links)         \n",
    "    return list_of_links\n",
    "    \n",
    "get_links_and_write_to_csv(\"Links.csv\")\n",
    "\n",
    "# Tager en fil og add'er indholdet af filen til en liste, som den returnere.\n",
    "def read_csv_and_add_to_list(input_file): \n",
    "    list_of_urls = []\n",
    "    with open(input_file, 'r') as file_object:\n",
    "        read_it = csv.reader(file_object, delimiter=',')\n",
    "        for row in read_it:\n",
    "            list_of_urls.append(row)    \n",
    "    return(list_of_urls)\n",
    "                       \n",
    "read_csv_and_add_to_list(\"Links.csv\")  \n",
    "\n",
    "# Åbner links og læser indholdet på de links og tilføjer indholdet til csv filer.\n",
    "def open_links_and_write_contents_to_csv(links):\n",
    "    for link in links:\n",
    "        stringified_link = link\n",
    "        for new_string in stringified_link:\n",
    "            response = urllib.request.urlopen(new_string)\n",
    "            # Lav en bedre måde den at få identifiseret årstalet og derfra generer et navn.\n",
    "            file_name = new_string.replace('https://www.', '').replace('.dk', '').replace('/nyheder/laes-hm-dronningens', '').replace('/nyheder/laes', '').replace('/menu', '').replace('/nyheder/las', '').replace('/nyheder/hm-dronningens', '').replace('/nyheder/hendes-majestaet-dronningens', '').replace('/materiale/nytarstaler/hendes-majestat-dronningens', '').replace('/materiale/nytarstaler/hm-dronningens', '').replace('/materiale/nytarstaler/hendes-majestat-dronningens', '') + \".csv\"\n",
    "            #print(file_name)\n",
    "            with open(file_name, 'wb') as out_file:\n",
    "                shutil.copyfileobj(response, out_file)\n",
    "                              \n",
    "open_links_and_write_contents_to_csv(read_csv_and_add_to_list(\"Links.csv\"))"
   ]
  }
 ],
 "metadata": {
  "kernelspec": {
   "display_name": "Python 3",
   "language": "python",
   "name": "python3"
  },
  "language_info": {
   "codemirror_mode": {
    "name": "ipython",
    "version": 3
   },
   "file_extension": ".py",
   "mimetype": "text/x-python",
   "name": "python",
   "nbconvert_exporter": "python",
   "pygments_lexer": "ipython3",
   "version": "3.7.6"
  }
 },
 "nbformat": 4,
 "nbformat_minor": 4
}
