{
 "cells": [
  {
   "cell_type": "markdown",
   "metadata": {},
   "source": [
    "# Python Exam - Group No. 6 - Presentation notebook\n",
    "___"
   ]
  },
  {
   "cell_type": "markdown",
   "metadata": {},
   "source": [
    "### Group description\n",
    "Group 6  \n",
    "- Joakim Stensnæs\t\t\tcph-js437\tcph-js437@cphbusiness.dk\n",
    "- Henrik Lønquist Thomasen\tcph-92ht\tcph-ht92@cphbusiness.dk\n",
    "- Yones El Bana\t\t\tcph-ye7\t\tcph-ye7@cphbusiness.dk\n",
    "- Alex Wagner\t\t\tcph-aw116\tcph-aw116@cphbusiness.dk\n",
    "___\n"
   ]
  },
  {
   "cell_type": "markdown",
   "metadata": {},
   "source": [
    "## Project description\n",
    "\n",
    "\n",
    "I dette projekt tager vi udgangspunkt i H.M. Dronningens nytårstaler igennem årene 2001 til 2020.  \n",
    "Vi vil hente talerne fra nettet, bearbejde dem og indentificere statistiske forskelle, samt prøve at angive om der negative eller positive antydninger.  \n",
    "Vi vil fremvise disse data på betydningsfulde og let læselige måder med grafer.\n",
    "\n",
    "\n",
    "##### Data:\n",
    "Dronnings nytårstaler ligger på nettet i transkriberet form.  \n",
    "https://www.kongehuset.dk/monarkiet-i-danmark/nytarstaler/hendes-majestat-dronningens-nytarstaler\n",
    "\n",
    "\n",
    "\n",
    "##### Succeskriterier\n",
    "1. Data retrieval  \n",
    "&nbsp;&nbsp;&nbsp;Webscrabing, saving to file/csv.\n",
    "\n",
    "2. Data preparation  \n",
    "&nbsp;&nbsp;&nbsp;Analyze speeches, data cleaning, word clouds.\n",
    "\n",
    "3. Structure analysis  \n",
    "&nbsp;&nbsp;&nbsp;Recognize patterns, form statistics.\n",
    "\n",
    "4. Sentiment analysis  \n",
    "&nbsp;&nbsp;&nbsp;Analyze positive or negative, compare between years and in individual speeches.\n",
    "\n",
    "5. Data presentation  \n",
    "&nbsp;&nbsp;&nbsp;Pyplot.\n",
    "\n",
    "\n",
    "##### Teknologier / libraries\n",
    "- csv\n",
    "- pandas\n",
    "- numpy\n",
    "- matplotlib\n",
    "- pyplot\n",
    "- bs4\n",
    "- requests\n",
    "- selenium\n",
    "- cv2\n",
    "- nltk\n",
    "\n",
    "##### Hovedudfordringer\n",
    "The main challenges bliver helt klart sentiment analysis, da det er relativt nyt stof.."
   ]
  },
  {
   "cell_type": "markdown",
   "metadata": {},
   "source": [
    "___"
   ]
  },
  {
   "cell_type": "markdown",
   "metadata": {},
   "source": [
    "### Data Retrievel (Webscraping med BeautifulSoup)\n",
    "I dette afsnit benytter vi os af webscraping til at indhente vores data sæt.  \n",
    "Det handler om Dronningens nytårstaler fra perioden 2001 til 2020. \n",
    "\n",
    "Disse taler ligger alle sammen tilgængelig på følgende side:  \n",
    "https://www.kongehuset.dk/monarkiet-i-danmark/nytarstaler/hendes-majestat-dronningens-nytarstaler"
   ]
  },
  {
   "cell_type": "code",
   "execution_count": 1,
   "metadata": {},
   "outputs": [
    {
     "name": "stdout",
     "output_type": "stream",
     "text": [
      "data/Nytårstalen 2020\n",
      "data/Nytårstalen 2019\n",
      "data/Nytårstalen 2018\n",
      "data/Nytårstalen 2017\n",
      "data/Nytårstalen 2016\n",
      "data/Nytårstalen 2015\n",
      "data/Nytårstalen 2014\n",
      "data/Nytårstalen 2013\n",
      "data/Nytårstalen 2012\n",
      "data/Nytårstalen 2011\n",
      "data/Nytårstalen 2010\n",
      "data/Nytårstalen 2009\n",
      "data/Nytårstalen 2008\n",
      "data/Nytårstalen 2007\n",
      "data/Nytårstalen 2006\n",
      "data/Nytårstalen 2005\n",
      "data/Nytårstalen 2004\n",
      "data/Nytårstalen 2003\n",
      "data/Nytårstalen 2002\n",
      "data/Nytårstalen 2001\n"
     ]
    }
   ],
   "source": [
    "from modules import data_retrieval\n",
    "\n",
    "#henter links\n",
    "data_retrieval.get_links_and_write_to_csv(\"Links.csv\")\n",
    "\n",
    "#vi gemmer links\n",
    "data_retrieval.read_csv_and_add_to_list(\"Links.csv\")  \n",
    "\n",
    "#vi henter dataen fra urlerne.\n",
    "data_retrieval.write_data_to_files_from_links(data_retrieval.read_csv_and_add_to_list(\"Links.csv\"))\n",
    "\n"
   ]
  },
  {
   "cell_type": "markdown",
   "metadata": {},
   "source": [
    "#### Findings\n",
    "\n",
    "Vi henter data fra de fundne url'er.\n",
    "\n",
    "Talerne bliver gemt via en rekursiv metode der gennemløber html elementer.\n",
    "Dog er der ikke en ens struktur på alle siderne, så yderligere filtrering af talerne er nødvændigt.  \n",
    "Specifikt for 2012, 13, 14 og 15."
   ]
  },
  {
   "cell_type": "markdown",
   "metadata": {},
   "source": [
    "___\n",
    "### Data Preperation (Klargører data fra talerne )\n",
    "I dette afsnit kigger wordclouds m.m."
   ]
  },
  {
   "cell_type": "code",
   "execution_count": 4,
   "metadata": {},
   "outputs": [
    {
     "ename": "ImportError",
     "evalue": "cannot import name 'data_prepration' from 'modules' (unknown location)",
     "output_type": "error",
     "traceback": [
      "\u001b[0;31m---------------------------------------------------------------------------\u001b[0m",
      "\u001b[0;31mImportError\u001b[0m                               Traceback (most recent call last)",
      "\u001b[0;32m<ipython-input-4-da9ba32ffde7>\u001b[0m in \u001b[0;36m<module>\u001b[0;34m\u001b[0m\n\u001b[0;32m----> 1\u001b[0;31m \u001b[0;32mfrom\u001b[0m \u001b[0mmodules\u001b[0m \u001b[0;32mimport\u001b[0m \u001b[0mdata_prepration\u001b[0m\u001b[0;34m\u001b[0m\u001b[0;34m\u001b[0m\u001b[0m\n\u001b[0m\u001b[1;32m      2\u001b[0m \u001b[0;34m\u001b[0m\u001b[0m\n\u001b[1;32m      3\u001b[0m \u001b[0;34m\u001b[0m\u001b[0m\n\u001b[1;32m      4\u001b[0m \u001b[0;31m#CODE HERE\u001b[0m\u001b[0;34m\u001b[0m\u001b[0;34m\u001b[0m\u001b[0;34m\u001b[0m\u001b[0m\n",
      "\u001b[0;31mImportError\u001b[0m: cannot import name 'data_prepration' from 'modules' (unknown location)"
     ]
    }
   ],
   "source": [
    "from modules import data_prepration\n",
    "\n",
    "\n",
    "#CODE HERE"
   ]
  },
  {
   "cell_type": "markdown",
   "metadata": {},
   "source": [
    "#### Findings\n",
    "Dronningen bander meget når hun snakker om... bla bla\n",
    "\n",
    "Se nedenstående graf for.:"
   ]
  },
  {
   "cell_type": "code",
   "execution_count": 5,
   "metadata": {},
   "outputs": [
    {
     "ename": "ModuleNotFoundError",
     "evalue": "No module named 'pyplot'",
     "output_type": "error",
     "traceback": [
      "\u001b[0;31m---------------------------------------------------------------------------\u001b[0m",
      "\u001b[0;31mModuleNotFoundError\u001b[0m                       Traceback (most recent call last)",
      "\u001b[0;32m<ipython-input-5-e90116b09204>\u001b[0m in \u001b[0;36m<module>\u001b[0;34m\u001b[0m\n\u001b[0;32m----> 1\u001b[0;31m \u001b[0;32mimport\u001b[0m \u001b[0mpyplot\u001b[0m\u001b[0;34m\u001b[0m\u001b[0;34m\u001b[0m\u001b[0m\n\u001b[0m\u001b[1;32m      2\u001b[0m \u001b[0;32mimport\u001b[0m \u001b[0mmatplotlib\u001b[0m\u001b[0;34m\u001b[0m\u001b[0;34m\u001b[0m\u001b[0m\n\u001b[1;32m      3\u001b[0m \u001b[0;34m\u001b[0m\u001b[0m\n\u001b[1;32m      4\u001b[0m \u001b[0;31m#PLOTS HERE\u001b[0m\u001b[0;34m\u001b[0m\u001b[0;34m\u001b[0m\u001b[0;34m\u001b[0m\u001b[0m\n",
      "\u001b[0;31mModuleNotFoundError\u001b[0m: No module named 'pyplot'"
     ]
    }
   ],
   "source": [
    "import pyplot\n",
    "import matplotlib\n",
    "\n",
    "#PLOTS HERE"
   ]
  },
  {
   "cell_type": "markdown",
   "metadata": {},
   "source": [
    "___\n",
    "### Structure analysis\n",
    "\n"
   ]
  },
  {
   "cell_type": "markdown",
   "metadata": {},
   "source": [
    "___\n",
    "### Sentiment analysis"
   ]
  }
 ],
 "metadata": {
  "kernelspec": {
   "display_name": "Python 3",
   "language": "python",
   "name": "python3"
  },
  "language_info": {
   "codemirror_mode": {
    "name": "ipython",
    "version": 3
   },
   "file_extension": ".py",
   "mimetype": "text/x-python",
   "name": "python",
   "nbconvert_exporter": "python",
   "pygments_lexer": "ipython3",
   "version": "3.7.6"
  }
 },
 "nbformat": 4,
 "nbformat_minor": 4
}
