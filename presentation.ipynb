{
 "cells": [
  {
   "cell_type": "markdown",
   "metadata": {},
   "source": [
    "# Python Exam - Group No. 6 - Presentation notebook\n",
    "___"
   ]
  },
  {
   "cell_type": "markdown",
   "metadata": {},
   "source": [
    "### Group description\n",
    "Group 6  \n",
    "- Joakim Stensnæs\t\t\tcph-js437\tcph-js437@cphbusiness.dk\n",
    "- Henrik Lønquist Thomasen\tcph-92ht\tcph-ht92@cphbusiness.dk\n",
    "- Yones El Bana\t\t\tcph-ye7\t\tcph-ye7@cphbusiness.dk\n",
    "- Alex Wagner\t\t\tcph-aw116\tcph-aw116@cphbusiness.dk\n",
    "___\n"
   ]
  },
  {
   "cell_type": "markdown",
   "metadata": {},
   "source": [
    "## Project description\n",
    "\n",
    "\n",
    "I dette projekt tager vi udgangspunkt i H.M. Dronningens nytårstaler igennem årene 2001 til 2020.  \n",
    "Vi vil hente talerne fra nettet, bearbejde dem og indentificere statistiske forskelle, samt prøve at angive om der negative eller positive antydninger.  \n",
    "Vi vil fremvise disse data på betydningsfulde og let læselige måder med grafer.\n",
    "\n",
    "\n",
    "##### Data:\n",
    "Dronnings nytårstaler ligger på nettet i transkriberet form.  \n",
    "https://www.kongehuset.dk/monarkiet-i-danmark/nytarstaler/hendes-majestat-dronningens-nytarstaler\n",
    "\n",
    "\n",
    "\n",
    "##### Succeskriterier\n",
    "1. Data retrieval  \n",
    "&nbsp;&nbsp;&nbsp;Webscrabing, saving to file/csv.\n",
    "\n",
    "2. Data preparation  \n",
    "&nbsp;&nbsp;&nbsp;Analyze speeches, data cleaning, word clouds.\n",
    "\n",
    "3. Structure analysis  \n",
    "&nbsp;&nbsp;&nbsp;Recognize patterns, form statistics.\n",
    "\n",
    "4. Sentiment analysis  \n",
    "&nbsp;&nbsp;&nbsp;Analyze positive or negative, compare between years and in individual speeches.\n",
    "\n",
    "5. Data presentation  \n",
    "&nbsp;&nbsp;&nbsp;Pyplot.\n",
    "\n",
    "\n",
    "##### Teknologier / libraries\n",
    "- csv\n",
    "- pandas\n",
    "- numpy\n",
    "- matplotlib\n",
    "- pyplot\n",
    "- bs4\n",
    "- requests\n",
    "- selenium\n",
    "- cv2\n",
    "- nltk\n",
    "\n",
    "##### Hovedudfordringer\n",
    "The main challenges bliver helt klart sentiment analysis, da det er relativt nyt stof.."
   ]
  },
  {
   "cell_type": "markdown",
   "metadata": {},
   "source": [
    "___"
   ]
  },
  {
   "cell_type": "markdown",
   "metadata": {},
   "source": []
  }
 ],
 "metadata": {
  "kernelspec": {
   "display_name": "Python 3",
   "language": "python",
   "name": "python3"
  },
  "language_info": {
   "codemirror_mode": {
    "name": "ipython",
    "version": 3
   },
   "file_extension": ".py",
   "mimetype": "text/x-python",
   "name": "python",
   "nbconvert_exporter": "python",
   "pygments_lexer": "ipython3",
   "version": "3.7.6"
  }
 },
 "nbformat": 4,
 "nbformat_minor": 4
}
